{
 "cells": [
  {
   "cell_type": "markdown",
   "metadata": {},
   "source": [
    "#  Problem Statement: Recommendation system for products on an e-commerce website like Amazon.com. "
   ]
  },
  {
   "cell_type": "markdown",
   "metadata": {},
   "source": [
    "# Primary Dataset columns​ -\n",
    "    - first column - userId\n",
    "    - second column - productId\n",
    "    - third column - ratings\n",
    "    - fourth column - timestamp"
   ]
  },
  {
   "cell_type": "markdown",
   "metadata": {},
   "source": [
    "# Steps - \n",
    "**1. Read and explore the given dataset.  ( Rename column/add headers, plot histograms, find data characteristics)** \n",
    "\n",
    "**2. Take a subset of the dataset to make it less sparse/ denser. ( For example, keep the users only who has given 50 or more number of ratings )**\n",
    "\n",
    "**3. Split the data randomly into train and test dataset. ( For example, split it in 70/30 ratio)**\n",
    "\n",
    "**4. Build Popularity Recommender model.**\n",
    "\n",
    "**5. Build Collaborative Filtering model.**\n",
    "\n",
    "**6. Evaluate both the models. ( Once the model is trained on the training data, it can be used to compute the error (like RMSE) on predictions made on the test data.) You can also use a different method to evaluate the models.**\n",
    "\n",
    "**7. Get top - K ( K = 5) recommendations. Since our goal is to recommend new products to each user based on his/her habits, we will recommend 5 new products.**\n",
    "\n",
    "**8. Summarise your insights.** \n",
    " "
   ]
  },
  {
   "cell_type": "markdown",
   "metadata": {},
   "source": [
    "# Load necessary libraries"
   ]
  },
  {
   "cell_type": "code",
   "execution_count": 4,
   "metadata": {},
   "outputs": [],
   "source": [
    "import pandas as pd # data manipulation and analysis\n",
    "import numpy as np\n",
    "import matplotlib.pyplot as plt\n",
    "import seaborn as sns # data visualisation library\n",
    "from pandas.io.json import json_normalize\n",
    "\n",
    "import warnings\n",
    "import json\n",
    "\n",
    "warnings.filterwarnings('ignore')\n",
    "%matplotlib inline"
   ]
  },
  {
   "cell_type": "code",
   "execution_count": 13,
   "metadata": {},
   "outputs": [],
   "source": [
    "from surprise import KNNBasic, SVD, NormalPredictor, KNNBaseline,KNNWithMeans, KNNWithZScore, BaselineOnly, CoClustering, Reader, dataset, accuracy"
   ]
  },
  {
   "cell_type": "markdown",
   "metadata": {},
   "source": [
    "# Read and explore the dataset  ( Rename column/add headers, plot histograms, find data characteristics) "
   ]
  },
  {
   "cell_type": "code",
   "execution_count": 4,
   "metadata": {},
   "outputs": [],
   "source": [
    "columns = ['userID', 'productID', 'ratings','timestamp']\n",
    "\n",
    "recomm_df = pd.read_csv(r'C:\\Users\\navee\\Downloads\\ratings_Electronics.csv',names=columns)"
   ]
  },
  {
   "cell_type": "code",
   "execution_count": 7,
   "metadata": {},
   "outputs": [
    {
     "name": "stdout",
     "output_type": "stream",
     "text": [
      "<class 'pandas.core.frame.DataFrame'>\n",
      "RangeIndex: 1048574 entries, 0 to 1048573\n",
      "Data columns (total 4 columns):\n",
      " #   Column     Non-Null Count    Dtype \n",
      "---  ------     --------------    ----- \n",
      " 0   userID     1048574 non-null  object\n",
      " 1   productID  1048574 non-null  object\n",
      " 2   ratings    1048574 non-null  int64 \n",
      " 3   timestamp  1048574 non-null  int64 \n",
      "dtypes: int64(2), object(2)\n",
      "memory usage: 32.0+ MB\n"
     ]
    }
   ],
   "source": [
    "recomm_df.info()"
   ]
  },
  {
   "cell_type": "code",
   "execution_count": 8,
   "metadata": {},
   "outputs": [
    {
     "data": {
      "text/html": [
       "<div>\n",
       "<style scoped>\n",
       "    .dataframe tbody tr th:only-of-type {\n",
       "        vertical-align: middle;\n",
       "    }\n",
       "\n",
       "    .dataframe tbody tr th {\n",
       "        vertical-align: top;\n",
       "    }\n",
       "\n",
       "    .dataframe thead th {\n",
       "        text-align: right;\n",
       "    }\n",
       "</style>\n",
       "<table border=\"1\" class=\"dataframe\">\n",
       "  <thead>\n",
       "    <tr style=\"text-align: right;\">\n",
       "      <th></th>\n",
       "      <th>userID</th>\n",
       "      <th>productID</th>\n",
       "      <th>ratings</th>\n",
       "      <th>timestamp</th>\n",
       "    </tr>\n",
       "  </thead>\n",
       "  <tbody>\n",
       "    <tr>\n",
       "      <th>0</th>\n",
       "      <td>AKM1MP6P0OYPR</td>\n",
       "      <td>132793040</td>\n",
       "      <td>5</td>\n",
       "      <td>1365811200</td>\n",
       "    </tr>\n",
       "    <tr>\n",
       "      <th>1</th>\n",
       "      <td>A2CX7LUOHB2NDG</td>\n",
       "      <td>321732944</td>\n",
       "      <td>5</td>\n",
       "      <td>1341100800</td>\n",
       "    </tr>\n",
       "    <tr>\n",
       "      <th>2</th>\n",
       "      <td>A1GI0U4ZRJA8WN</td>\n",
       "      <td>439886341</td>\n",
       "      <td>1</td>\n",
       "      <td>1334707200</td>\n",
       "    </tr>\n",
       "    <tr>\n",
       "      <th>3</th>\n",
       "      <td>A1QGNMC6O1VW39</td>\n",
       "      <td>511189877</td>\n",
       "      <td>5</td>\n",
       "      <td>1397433600</td>\n",
       "    </tr>\n",
       "    <tr>\n",
       "      <th>4</th>\n",
       "      <td>A3J3BRHTDRFJ2G</td>\n",
       "      <td>511189877</td>\n",
       "      <td>2</td>\n",
       "      <td>1397433600</td>\n",
       "    </tr>\n",
       "  </tbody>\n",
       "</table>\n",
       "</div>"
      ],
      "text/plain": [
       "           userID  productID  ratings   timestamp\n",
       "0   AKM1MP6P0OYPR  132793040        5  1365811200\n",
       "1  A2CX7LUOHB2NDG  321732944        5  1341100800\n",
       "2  A1GI0U4ZRJA8WN  439886341        1  1334707200\n",
       "3  A1QGNMC6O1VW39  511189877        5  1397433600\n",
       "4  A3J3BRHTDRFJ2G  511189877        2  1397433600"
      ]
     },
     "execution_count": 8,
     "metadata": {},
     "output_type": "execute_result"
    }
   ],
   "source": [
    "recomm_df.head()"
   ]
  },
  {
   "cell_type": "code",
   "execution_count": 9,
   "metadata": {},
   "outputs": [
    {
     "data": {
      "text/plain": [
       "(1048574, 4)"
      ]
     },
     "execution_count": 9,
     "metadata": {},
     "output_type": "execute_result"
    }
   ],
   "source": [
    "recomm_df.shape"
   ]
  },
  {
   "cell_type": "markdown",
   "metadata": {},
   "source": [
    "#  Pre-Processing 0: Dropping the \"timestamp\" as it is not a needed field"
   ]
  },
  {
   "cell_type": "code",
   "execution_count": 5,
   "metadata": {},
   "outputs": [],
   "source": [
    "recomm_df = recomm_df.drop('timestamp', axis=1)"
   ]
  },
  {
   "cell_type": "markdown",
   "metadata": {},
   "source": [
    "# Missing Value"
   ]
  },
  {
   "cell_type": "code",
   "execution_count": 61,
   "metadata": {},
   "outputs": [
    {
     "data": {
      "text/plain": [
       "userID       0\n",
       "productID    0\n",
       "ratings      0\n",
       "dtype: int64"
      ]
     },
     "execution_count": 61,
     "metadata": {},
     "output_type": "execute_result"
    }
   ],
   "source": [
    "recomm_df.isna().sum()"
   ]
  },
  {
   "cell_type": "markdown",
   "metadata": {},
   "source": [
    "### ----------Add code to handle missing values-----------\n",
    "df.dropna(axis=0)"
   ]
  },
  {
   "cell_type": "code",
   "execution_count": 62,
   "metadata": {},
   "outputs": [
    {
     "data": {
      "text/plain": [
       "(1048574, 3)"
      ]
     },
     "execution_count": 62,
     "metadata": {},
     "output_type": "execute_result"
    }
   ],
   "source": [
    "recomm_df.shape"
   ]
  },
  {
   "cell_type": "markdown",
   "metadata": {},
   "source": [
    "# Case 1: Cold Start Problem"
   ]
  },
  {
   "cell_type": "code",
   "execution_count": 1,
   "metadata": {},
   "outputs": [
    {
     "ename": "NameError",
     "evalue": "name 'recomm_df' is not defined",
     "output_type": "error",
     "traceback": [
      "\u001b[1;31m---------------------------------------------------------------------------\u001b[0m",
      "\u001b[1;31mNameError\u001b[0m                                 Traceback (most recent call last)",
      "\u001b[1;32m<ipython-input-1-3e6d7f4f2047>\u001b[0m in \u001b[0;36m<module>\u001b[1;34m\u001b[0m\n\u001b[1;32m----> 1\u001b[1;33m \u001b[0mpopular\u001b[0m \u001b[1;33m=\u001b[0m \u001b[0mrecomm_df\u001b[0m\u001b[1;33m[\u001b[0m\u001b[1;33m[\u001b[0m\u001b[1;34m'userID'\u001b[0m\u001b[1;33m,\u001b[0m\u001b[1;34m'ratings'\u001b[0m\u001b[1;33m]\u001b[0m\u001b[1;33m]\u001b[0m\u001b[1;33m.\u001b[0m\u001b[0mgroupby\u001b[0m\u001b[1;33m(\u001b[0m\u001b[1;34m'userID'\u001b[0m\u001b[1;33m)\u001b[0m\u001b[1;33m.\u001b[0m\u001b[0msum\u001b[0m\u001b[1;33m(\u001b[0m\u001b[1;33m)\u001b[0m\u001b[1;33m.\u001b[0m\u001b[0mreset_index\u001b[0m\u001b[1;33m(\u001b[0m\u001b[1;33m)\u001b[0m\u001b[1;33m\u001b[0m\u001b[1;33m\u001b[0m\u001b[0m\n\u001b[0m\u001b[0;32m      2\u001b[0m \u001b[0mpopular_20\u001b[0m \u001b[1;33m=\u001b[0m \u001b[0mpopular\u001b[0m\u001b[1;33m.\u001b[0m\u001b[0msort_values\u001b[0m\u001b[1;33m(\u001b[0m\u001b[1;34m'ratings'\u001b[0m\u001b[1;33m,\u001b[0m \u001b[0mascending\u001b[0m\u001b[1;33m=\u001b[0m\u001b[1;32mFalse\u001b[0m\u001b[1;33m)\u001b[0m\u001b[1;33m.\u001b[0m\u001b[0mhead\u001b[0m\u001b[1;33m(\u001b[0m\u001b[0mn\u001b[0m\u001b[1;33m=\u001b[0m\u001b[1;36m20\u001b[0m\u001b[1;33m)\u001b[0m\u001b[1;33m\u001b[0m\u001b[1;33m\u001b[0m\u001b[0m\n\u001b[0;32m      3\u001b[0m \u001b[1;32mimport\u001b[0m \u001b[0mmatplotlib\u001b[0m\u001b[1;33m.\u001b[0m\u001b[0mpyplot\u001b[0m \u001b[1;32mas\u001b[0m \u001b[0mplt\u001b[0m\u001b[1;33m;\u001b[0m \u001b[0mplt\u001b[0m\u001b[1;33m.\u001b[0m\u001b[0mrcdefaults\u001b[0m\u001b[1;33m(\u001b[0m\u001b[1;33m)\u001b[0m\u001b[1;33m\u001b[0m\u001b[1;33m\u001b[0m\u001b[0m\n\u001b[0;32m      4\u001b[0m \u001b[1;32mimport\u001b[0m \u001b[0mnumpy\u001b[0m \u001b[1;32mas\u001b[0m \u001b[0mnp\u001b[0m\u001b[1;33m\u001b[0m\u001b[1;33m\u001b[0m\u001b[0m\n\u001b[0;32m      5\u001b[0m \u001b[1;32mimport\u001b[0m \u001b[0mmatplotlib\u001b[0m\u001b[1;33m.\u001b[0m\u001b[0mpyplot\u001b[0m \u001b[1;32mas\u001b[0m \u001b[0mplt\u001b[0m\u001b[1;33m\u001b[0m\u001b[1;33m\u001b[0m\u001b[0m\n",
      "\u001b[1;31mNameError\u001b[0m: name 'recomm_df' is not defined"
     ]
    }
   ],
   "source": [
    "popular = recomm_df[['userID','ratings']].groupby('userID').sum().reset_index()\n",
    "popular_20 = popular.sort_values('ratings', ascending=False).head(n=20)\n",
    "import matplotlib.pyplot as plt; plt.rcdefaults()\n",
    "import numpy as np\n",
    "import matplotlib.pyplot as plt\n",
    " \n",
    "objects = (list(popular_20['userID']))\n",
    "y_pos = np.arange(len(objects))\n",
    "performance = list(popular_20['ratings'])\n",
    " \n",
    "plt.bar(y_pos, performance, align='center', alpha=0.5)\n",
    "plt.xticks(y_pos, objects, rotation='vertical')\n",
    "plt.ylabel('Total Rating')\n",
    "plt.title('Most popular')\n",
    " \n",
    "plt.show()"
   ]
  },
  {
   "cell_type": "code",
   "execution_count": 65,
   "metadata": {},
   "outputs": [
    {
     "data": {
      "text/plain": [
       "A5JLAU2ARJ0BO     412\n",
       "A231WM2Z2JL0U3    249\n",
       "A25HBO5V8S8SEA    164\n",
       "A6FIAB28IS79      146\n",
       "AT6CZDCP4TRGA     128\n",
       "                 ... \n",
       "A2Z9BZN45ZIWOZ      1\n",
       "A30YUVSUTWY1BH      1\n",
       "A2ELR81SA242O9      1\n",
       "A3LTZM4BD2W2BS      1\n",
       "A15GM3MGD056S       1\n",
       "Name: userID, Length: 786328, dtype: int64"
      ]
     },
     "execution_count": 65,
     "metadata": {},
     "output_type": "execute_result"
    }
   ],
   "source": [
    "# find unique users\n",
    "recomm_df.userID.value_counts()"
   ]
  },
  {
   "cell_type": "code",
   "execution_count": 66,
   "metadata": {},
   "outputs": [
    {
     "name": "stdout",
     "output_type": "stream",
     "text": [
      "Number of unique users 786328\n"
     ]
    }
   ],
   "source": [
    "print('Number of unique users', len(recomm_df['userID'].unique()))"
   ]
  },
  {
   "cell_type": "code",
   "execution_count": 67,
   "metadata": {},
   "outputs": [
    {
     "name": "stdout",
     "output_type": "stream",
     "text": [
      "Number of unique products 61894\n"
     ]
    }
   ],
   "source": [
    "print('Number of unique products', len(recomm_df['productID'].unique()))"
   ]
  },
  {
   "cell_type": "code",
   "execution_count": 68,
   "metadata": {},
   "outputs": [
    {
     "name": "stdout",
     "output_type": "stream",
     "text": [
      "Unique Ratings [5 1 2 4 3]\n"
     ]
    }
   ],
   "source": [
    "print('Unique Ratings', recomm_df['ratings'].unique())"
   ]
  },
  {
   "cell_type": "code",
   "execution_count": 69,
   "metadata": {},
   "outputs": [],
   "source": [
    "min_ratings1 = recomm_df[(recomm_df['ratings'] < 2.0)]"
   ]
  },
  {
   "cell_type": "code",
   "execution_count": 70,
   "metadata": {},
   "outputs": [
    {
     "name": "stdout",
     "output_type": "stream",
     "text": [
      "Number of unique products rated low 26111\n"
     ]
    }
   ],
   "source": [
    "print('Number of unique products rated low',len(min_ratings1['productID'].unique()))"
   ]
  },
  {
   "cell_type": "code",
   "execution_count": 71,
   "metadata": {},
   "outputs": [],
   "source": [
    "med_ratings1 = recomm_df[(recomm_df['ratings'] > 2.0) & (recomm_df['ratings'] < 4.0)]"
   ]
  },
  {
   "cell_type": "code",
   "execution_count": 72,
   "metadata": {},
   "outputs": [
    {
     "name": "stdout",
     "output_type": "stream",
     "text": [
      "Number of unique products rated medium 22236\n"
     ]
    }
   ],
   "source": [
    "print('Number of unique products rated medium',len(med_ratings1['productID'].unique()))"
   ]
  },
  {
   "cell_type": "code",
   "execution_count": 73,
   "metadata": {},
   "outputs": [],
   "source": [
    "max_ratings1 = recomm_df[recomm_df['ratings'] >= 4.0]"
   ]
  },
  {
   "cell_type": "code",
   "execution_count": 74,
   "metadata": {},
   "outputs": [
    {
     "name": "stdout",
     "output_type": "stream",
     "text": [
      "Number of unique products rated high 54985\n"
     ]
    }
   ],
   "source": [
    "print('Number of unique products rated high',len(max_ratings1['productID'].unique()))"
   ]
  },
  {
   "cell_type": "code",
   "execution_count": 75,
   "metadata": {},
   "outputs": [],
   "source": [
    "avg_rating_prod = recomm_df.groupby('productID').sum() / recomm_df.groupby('productID').count()"
   ]
  },
  {
   "cell_type": "code",
   "execution_count": 76,
   "metadata": {},
   "outputs": [],
   "source": [
    "avg_rating_prod.drop('userID', axis=1,inplace =True)"
   ]
  },
  {
   "cell_type": "code",
   "execution_count": 77,
   "metadata": {
    "scrolled": true
   },
   "outputs": [
    {
     "name": "stdout",
     "output_type": "stream",
     "text": [
      "Top 10 highly rated products \n",
      "             ratings\n",
      "productID          \n",
      "059400232X      5.0\n",
      "094339676X      5.0\n",
      "1039869017      5.0\n",
      "1182702627      5.0\n",
      "132793040       5.0\n",
      "1575839415      5.0\n",
      "1593152523      5.0\n",
      "1594243034      5.0\n",
      "1604550945      5.0\n",
      "1610130804      5.0\n"
     ]
    }
   ],
   "source": [
    "print ('Top 10 highly rated products \\n',avg_rating_prod.nlargest(10,'ratings'))"
   ]
  },
  {
   "cell_type": "markdown",
   "metadata": {},
   "source": [
    "# Case 2: Using Already Available Data for Predictions"
   ]
  },
  {
   "cell_type": "markdown",
   "metadata": {},
   "source": [
    "# Pre-processing 1: Take a subset of the dataset to make it less sparse/ denser. ( For example, keep the users only who has given 50 or more number of ratings )"
   ]
  },
  {
   "cell_type": "code",
   "execution_count": 78,
   "metadata": {},
   "outputs": [],
   "source": [
    "userID = recomm_df.groupby('userID').count()"
   ]
  },
  {
   "cell_type": "code",
   "execution_count": 80,
   "metadata": {},
   "outputs": [],
   "source": [
    "top_user = userID[userID['ratings'] >= 50].index"
   ]
  },
  {
   "cell_type": "code",
   "execution_count": 81,
   "metadata": {},
   "outputs": [],
   "source": [
    "topuser_ratings_df = recomm_df[recomm_df['userID'].isin(top_user)]"
   ]
  },
  {
   "cell_type": "code",
   "execution_count": 364,
   "metadata": {},
   "outputs": [],
   "source": [
    "#topuser_ratings_df.drop('productID', axis=1, inplace = True)"
   ]
  },
  {
   "cell_type": "code",
   "execution_count": 82,
   "metadata": {},
   "outputs": [
    {
     "data": {
      "text/plain": [
       "(3456, 3)"
      ]
     },
     "execution_count": 82,
     "metadata": {},
     "output_type": "execute_result"
    }
   ],
   "source": [
    "topuser_ratings_df.shape"
   ]
  },
  {
   "cell_type": "code",
   "execution_count": 83,
   "metadata": {},
   "outputs": [
    {
     "data": {
      "text/html": [
       "<div>\n",
       "<style scoped>\n",
       "    .dataframe tbody tr th:only-of-type {\n",
       "        vertical-align: middle;\n",
       "    }\n",
       "\n",
       "    .dataframe tbody tr th {\n",
       "        vertical-align: top;\n",
       "    }\n",
       "\n",
       "    .dataframe thead th {\n",
       "        text-align: right;\n",
       "    }\n",
       "</style>\n",
       "<table border=\"1\" class=\"dataframe\">\n",
       "  <thead>\n",
       "    <tr style=\"text-align: right;\">\n",
       "      <th></th>\n",
       "      <th>userID</th>\n",
       "      <th>productID</th>\n",
       "      <th>ratings</th>\n",
       "    </tr>\n",
       "  </thead>\n",
       "  <tbody>\n",
       "    <tr>\n",
       "      <th>2160</th>\n",
       "      <td>A5JLAU2ARJ0BO</td>\n",
       "      <td>1400532655</td>\n",
       "      <td>1</td>\n",
       "    </tr>\n",
       "    <tr>\n",
       "      <th>3048</th>\n",
       "      <td>ALUNVOQRXOZIA</td>\n",
       "      <td>1400599997</td>\n",
       "      <td>1</td>\n",
       "    </tr>\n",
       "    <tr>\n",
       "      <th>4612</th>\n",
       "      <td>A1VQHH85U7PX0</td>\n",
       "      <td>9043413585</td>\n",
       "      <td>3</td>\n",
       "    </tr>\n",
       "    <tr>\n",
       "      <th>6070</th>\n",
       "      <td>A250AXLRBVYKB4</td>\n",
       "      <td>998376234X</td>\n",
       "      <td>1</td>\n",
       "    </tr>\n",
       "    <tr>\n",
       "      <th>7379</th>\n",
       "      <td>A2AEZQ3DGBBLPR</td>\n",
       "      <td>B000000O48</td>\n",
       "      <td>5</td>\n",
       "    </tr>\n",
       "  </tbody>\n",
       "</table>\n",
       "</div>"
      ],
      "text/plain": [
       "              userID   productID  ratings\n",
       "2160   A5JLAU2ARJ0BO  1400532655        1\n",
       "3048   ALUNVOQRXOZIA  1400599997        1\n",
       "4612   A1VQHH85U7PX0  9043413585        3\n",
       "6070  A250AXLRBVYKB4  998376234X        1\n",
       "7379  A2AEZQ3DGBBLPR  B000000O48        5"
      ]
     },
     "execution_count": 83,
     "metadata": {},
     "output_type": "execute_result"
    }
   ],
   "source": [
    "topuser_ratings_df.head()"
   ]
  },
  {
   "cell_type": "code",
   "execution_count": 84,
   "metadata": {},
   "outputs": [
    {
     "data": {
      "text/html": [
       "<div>\n",
       "<style scoped>\n",
       "    .dataframe tbody tr th:only-of-type {\n",
       "        vertical-align: middle;\n",
       "    }\n",
       "\n",
       "    .dataframe tbody tr th {\n",
       "        vertical-align: top;\n",
       "    }\n",
       "\n",
       "    .dataframe thead th {\n",
       "        text-align: right;\n",
       "    }\n",
       "</style>\n",
       "<table border=\"1\" class=\"dataframe\">\n",
       "  <thead>\n",
       "    <tr style=\"text-align: right;\">\n",
       "      <th></th>\n",
       "      <th>userID</th>\n",
       "      <th>productID</th>\n",
       "      <th>ratings</th>\n",
       "    </tr>\n",
       "  </thead>\n",
       "  <tbody>\n",
       "    <tr>\n",
       "      <th>935141</th>\n",
       "      <td>A680RUE1FDO8B</td>\n",
       "      <td>B000FJ89UO</td>\n",
       "      <td>5</td>\n",
       "    </tr>\n",
       "    <tr>\n",
       "      <th>252702</th>\n",
       "      <td>A2XRMQA6PJ5ZJ8</td>\n",
       "      <td>B00008RUXO</td>\n",
       "      <td>5</td>\n",
       "    </tr>\n",
       "    <tr>\n",
       "      <th>252615</th>\n",
       "      <td>ABH9D1TEOJ56E</td>\n",
       "      <td>B00008RUEO</td>\n",
       "      <td>5</td>\n",
       "    </tr>\n",
       "    <tr>\n",
       "      <th>579412</th>\n",
       "      <td>AGHZXQL9F94T9</td>\n",
       "      <td>B00074Z9OQ</td>\n",
       "      <td>5</td>\n",
       "    </tr>\n",
       "    <tr>\n",
       "      <th>252513</th>\n",
       "      <td>A7Y6AVS576M03</td>\n",
       "      <td>B00008RS95</td>\n",
       "      <td>5</td>\n",
       "    </tr>\n",
       "  </tbody>\n",
       "</table>\n",
       "</div>"
      ],
      "text/plain": [
       "                userID   productID  ratings\n",
       "935141   A680RUE1FDO8B  B000FJ89UO        5\n",
       "252702  A2XRMQA6PJ5ZJ8  B00008RUXO        5\n",
       "252615   ABH9D1TEOJ56E  B00008RUEO        5\n",
       "579412   AGHZXQL9F94T9  B00074Z9OQ        5\n",
       "252513   A7Y6AVS576M03  B00008RS95        5"
      ]
     },
     "execution_count": 84,
     "metadata": {},
     "output_type": "execute_result"
    }
   ],
   "source": [
    "topuser_ratings_df.sort_values(by='ratings', ascending=False).head()"
   ]
  },
  {
   "cell_type": "markdown",
   "metadata": {},
   "source": [
    "\n",
    "# Pre-Processing 2: Keep data only for products that have 50 or more ratings"
   ]
  },
  {
   "cell_type": "code",
   "execution_count": 85,
   "metadata": {},
   "outputs": [],
   "source": [
    "prodID = recomm_df.groupby('productID').count()"
   ]
  },
  {
   "cell_type": "code",
   "execution_count": 86,
   "metadata": {},
   "outputs": [],
   "source": [
    "top_prod = prodID[prodID['ratings'] >= 50].index"
   ]
  },
  {
   "cell_type": "code",
   "execution_count": 87,
   "metadata": {},
   "outputs": [],
   "source": [
    "top_ratings_df = topuser_ratings_df[topuser_ratings_df['productID'].isin(top_prod)]"
   ]
  },
  {
   "cell_type": "code",
   "execution_count": 88,
   "metadata": {},
   "outputs": [
    {
     "data": {
      "text/html": [
       "<div>\n",
       "<style scoped>\n",
       "    .dataframe tbody tr th:only-of-type {\n",
       "        vertical-align: middle;\n",
       "    }\n",
       "\n",
       "    .dataframe tbody tr th {\n",
       "        vertical-align: top;\n",
       "    }\n",
       "\n",
       "    .dataframe thead th {\n",
       "        text-align: right;\n",
       "    }\n",
       "</style>\n",
       "<table border=\"1\" class=\"dataframe\">\n",
       "  <thead>\n",
       "    <tr style=\"text-align: right;\">\n",
       "      <th></th>\n",
       "      <th>userID</th>\n",
       "      <th>productID</th>\n",
       "      <th>ratings</th>\n",
       "    </tr>\n",
       "  </thead>\n",
       "  <tbody>\n",
       "    <tr>\n",
       "      <th>365904</th>\n",
       "      <td>A2XRMQA6PJ5ZJ8</td>\n",
       "      <td>B00015GYU4</td>\n",
       "      <td>5</td>\n",
       "    </tr>\n",
       "    <tr>\n",
       "      <th>683921</th>\n",
       "      <td>A5JLAU2ARJ0BO</td>\n",
       "      <td>B0009ST7DY</td>\n",
       "      <td>5</td>\n",
       "    </tr>\n",
       "    <tr>\n",
       "      <th>700439</th>\n",
       "      <td>A2AEZQ3DGBBLPR</td>\n",
       "      <td>B000A3WS20</td>\n",
       "      <td>5</td>\n",
       "    </tr>\n",
       "    <tr>\n",
       "      <th>700137</th>\n",
       "      <td>AGXV8E7XK9J6H</td>\n",
       "      <td>B000A3WS16</td>\n",
       "      <td>5</td>\n",
       "    </tr>\n",
       "    <tr>\n",
       "      <th>693051</th>\n",
       "      <td>A6FIAB28IS79</td>\n",
       "      <td>B0009Y7APU</td>\n",
       "      <td>5</td>\n",
       "    </tr>\n",
       "  </tbody>\n",
       "</table>\n",
       "</div>"
      ],
      "text/plain": [
       "                userID   productID  ratings\n",
       "365904  A2XRMQA6PJ5ZJ8  B00015GYU4        5\n",
       "683921   A5JLAU2ARJ0BO  B0009ST7DY        5\n",
       "700439  A2AEZQ3DGBBLPR  B000A3WS20        5\n",
       "700137   AGXV8E7XK9J6H  B000A3WS16        5\n",
       "693051    A6FIAB28IS79  B0009Y7APU        5"
      ]
     },
     "execution_count": 88,
     "metadata": {},
     "output_type": "execute_result"
    }
   ],
   "source": [
    "top_ratings_df.sort_values(by='ratings', ascending=False).head()"
   ]
  },
  {
   "cell_type": "code",
   "execution_count": 89,
   "metadata": {},
   "outputs": [
    {
     "data": {
      "text/plain": [
       "(1339, 3)"
      ]
     },
     "execution_count": 89,
     "metadata": {},
     "output_type": "execute_result"
    }
   ],
   "source": [
    "top_ratings_df.shape"
   ]
  },
  {
   "cell_type": "markdown",
   "metadata": {},
   "source": [
    "# Pre-Processing 3 - Split the data randomly into train and test dataset. ( For example, split it in 70/30 ratio)"
   ]
  },
  {
   "cell_type": "code",
   "execution_count": 90,
   "metadata": {},
   "outputs": [],
   "source": [
    "from sklearn.model_selection import train_test_split\n",
    "train_data, test_data = train_test_split(top_ratings_df, test_size = 0.30, random_state=0)"
   ]
  },
  {
   "cell_type": "code",
   "execution_count": 91,
   "metadata": {
    "scrolled": true
   },
   "outputs": [
    {
     "data": {
      "text/html": [
       "<div>\n",
       "<style scoped>\n",
       "    .dataframe tbody tr th:only-of-type {\n",
       "        vertical-align: middle;\n",
       "    }\n",
       "\n",
       "    .dataframe tbody tr th {\n",
       "        vertical-align: top;\n",
       "    }\n",
       "\n",
       "    .dataframe thead th {\n",
       "        text-align: right;\n",
       "    }\n",
       "</style>\n",
       "<table border=\"1\" class=\"dataframe\">\n",
       "  <thead>\n",
       "    <tr style=\"text-align: right;\">\n",
       "      <th></th>\n",
       "      <th>userID</th>\n",
       "      <th>productID</th>\n",
       "      <th>ratings</th>\n",
       "    </tr>\n",
       "  </thead>\n",
       "  <tbody>\n",
       "    <tr>\n",
       "      <th>61810</th>\n",
       "      <td>AGHZXQL9F94T9</td>\n",
       "      <td>B00004XRED</td>\n",
       "      <td>5</td>\n",
       "    </tr>\n",
       "    <tr>\n",
       "      <th>278440</th>\n",
       "      <td>A15QYHQH80W30L</td>\n",
       "      <td>B00009MDBQ</td>\n",
       "      <td>5</td>\n",
       "    </tr>\n",
       "    <tr>\n",
       "      <th>597547</th>\n",
       "      <td>AGHZXQL9F94T9</td>\n",
       "      <td>B0007MVHZS</td>\n",
       "      <td>4</td>\n",
       "    </tr>\n",
       "    <tr>\n",
       "      <th>856624</th>\n",
       "      <td>A1RPTVW5VEOSI</td>\n",
       "      <td>B000EIDARS</td>\n",
       "      <td>4</td>\n",
       "    </tr>\n",
       "    <tr>\n",
       "      <th>104772</th>\n",
       "      <td>A25HBO5V8S8SEA</td>\n",
       "      <td>B00005MIS8</td>\n",
       "      <td>5</td>\n",
       "    </tr>\n",
       "  </tbody>\n",
       "</table>\n",
       "</div>"
      ],
      "text/plain": [
       "                userID   productID  ratings\n",
       "61810    AGHZXQL9F94T9  B00004XRED        5\n",
       "278440  A15QYHQH80W30L  B00009MDBQ        5\n",
       "597547   AGHZXQL9F94T9  B0007MVHZS        4\n",
       "856624   A1RPTVW5VEOSI  B000EIDARS        4\n",
       "104772  A25HBO5V8S8SEA  B00005MIS8        5"
      ]
     },
     "execution_count": 91,
     "metadata": {},
     "output_type": "execute_result"
    }
   ],
   "source": [
    "train_data.head()"
   ]
  },
  {
   "cell_type": "code",
   "execution_count": 2,
   "metadata": {},
   "outputs": [
    {
     "ename": "NameError",
     "evalue": "name 'train_data' is not defined",
     "output_type": "error",
     "traceback": [
      "\u001b[1;31m---------------------------------------------------------------------------\u001b[0m",
      "\u001b[1;31mNameError\u001b[0m                                 Traceback (most recent call last)",
      "\u001b[1;32m<ipython-input-2-8852729f0f48>\u001b[0m in \u001b[0;36m<module>\u001b[1;34m\u001b[0m\n\u001b[1;32m----> 1\u001b[1;33m \u001b[0mtrain_data\u001b[0m\u001b[1;33m.\u001b[0m\u001b[0mshape\u001b[0m\u001b[1;33m\u001b[0m\u001b[1;33m\u001b[0m\u001b[0m\n\u001b[0m",
      "\u001b[1;31mNameError\u001b[0m: name 'train_data' is not defined"
     ]
    }
   ],
   "source": [
    "train_data.shape"
   ]
  },
  {
   "cell_type": "code",
   "execution_count": 92,
   "metadata": {},
   "outputs": [
    {
     "data": {
      "text/html": [
       "<div>\n",
       "<style scoped>\n",
       "    .dataframe tbody tr th:only-of-type {\n",
       "        vertical-align: middle;\n",
       "    }\n",
       "\n",
       "    .dataframe tbody tr th {\n",
       "        vertical-align: top;\n",
       "    }\n",
       "\n",
       "    .dataframe thead th {\n",
       "        text-align: right;\n",
       "    }\n",
       "</style>\n",
       "<table border=\"1\" class=\"dataframe\">\n",
       "  <thead>\n",
       "    <tr style=\"text-align: right;\">\n",
       "      <th></th>\n",
       "      <th>userID</th>\n",
       "      <th>productID</th>\n",
       "      <th>ratings</th>\n",
       "    </tr>\n",
       "  </thead>\n",
       "  <tbody>\n",
       "    <tr>\n",
       "      <th>327024</th>\n",
       "      <td>A2XRMQA6PJ5ZJ8</td>\n",
       "      <td>B0000BVDM7</td>\n",
       "      <td>5</td>\n",
       "    </tr>\n",
       "    <tr>\n",
       "      <th>715194</th>\n",
       "      <td>A1F9Z42CFF9IAY</td>\n",
       "      <td>B000AJIF4E</td>\n",
       "      <td>2</td>\n",
       "    </tr>\n",
       "    <tr>\n",
       "      <th>535952</th>\n",
       "      <td>AT6CZDCP4TRGA</td>\n",
       "      <td>B00062QY5W</td>\n",
       "      <td>1</td>\n",
       "    </tr>\n",
       "    <tr>\n",
       "      <th>56637</th>\n",
       "      <td>A2BGZ52M908MJY</td>\n",
       "      <td>B00004W3YX</td>\n",
       "      <td>4</td>\n",
       "    </tr>\n",
       "    <tr>\n",
       "      <th>425258</th>\n",
       "      <td>A680RUE1FDO8B</td>\n",
       "      <td>B00022VBAE</td>\n",
       "      <td>4</td>\n",
       "    </tr>\n",
       "  </tbody>\n",
       "</table>\n",
       "</div>"
      ],
      "text/plain": [
       "                userID   productID  ratings\n",
       "327024  A2XRMQA6PJ5ZJ8  B0000BVDM7        5\n",
       "715194  A1F9Z42CFF9IAY  B000AJIF4E        2\n",
       "535952   AT6CZDCP4TRGA  B00062QY5W        1\n",
       "56637   A2BGZ52M908MJY  B00004W3YX        4\n",
       "425258   A680RUE1FDO8B  B00022VBAE        4"
      ]
     },
     "execution_count": 92,
     "metadata": {},
     "output_type": "execute_result"
    }
   ],
   "source": [
    "test_data.head()"
   ]
  },
  {
   "cell_type": "code",
   "execution_count": null,
   "metadata": {},
   "outputs": [],
   "source": [
    "test_data.shape"
   ]
  },
  {
   "cell_type": "markdown",
   "metadata": {},
   "source": [
    "# Processing Begins"
   ]
  },
  {
   "cell_type": "markdown",
   "metadata": {},
   "source": [
    "# Model 1: Build Popularity Recommender model."
   ]
  },
  {
   "cell_type": "code",
   "execution_count": 93,
   "metadata": {},
   "outputs": [],
   "source": [
    "#Building the recommendations based on the average of all user ratings for each product.\n",
    "train_data_grouped = train_data.groupby('productID').mean().reset_index()"
   ]
  },
  {
   "cell_type": "code",
   "execution_count": 94,
   "metadata": {},
   "outputs": [
    {
     "data": {
      "text/html": [
       "<div>\n",
       "<style scoped>\n",
       "    .dataframe tbody tr th:only-of-type {\n",
       "        vertical-align: middle;\n",
       "    }\n",
       "\n",
       "    .dataframe tbody tr th {\n",
       "        vertical-align: top;\n",
       "    }\n",
       "\n",
       "    .dataframe thead th {\n",
       "        text-align: right;\n",
       "    }\n",
       "</style>\n",
       "<table border=\"1\" class=\"dataframe\">\n",
       "  <thead>\n",
       "    <tr style=\"text-align: right;\">\n",
       "      <th></th>\n",
       "      <th>productID</th>\n",
       "      <th>ratings</th>\n",
       "    </tr>\n",
       "  </thead>\n",
       "  <tbody>\n",
       "    <tr>\n",
       "      <th>0</th>\n",
       "      <td>1400532655</td>\n",
       "      <td>1.0</td>\n",
       "    </tr>\n",
       "    <tr>\n",
       "      <th>1</th>\n",
       "      <td>B000001OMI</td>\n",
       "      <td>5.0</td>\n",
       "    </tr>\n",
       "    <tr>\n",
       "      <th>2</th>\n",
       "      <td>B00000DM9W</td>\n",
       "      <td>5.0</td>\n",
       "    </tr>\n",
       "    <tr>\n",
       "      <th>3</th>\n",
       "      <td>B00000J05A</td>\n",
       "      <td>3.0</td>\n",
       "    </tr>\n",
       "    <tr>\n",
       "      <th>4</th>\n",
       "      <td>B00000J061</td>\n",
       "      <td>5.0</td>\n",
       "    </tr>\n",
       "  </tbody>\n",
       "</table>\n",
       "</div>"
      ],
      "text/plain": [
       "    productID  ratings\n",
       "0  1400532655      1.0\n",
       "1  B000001OMI      5.0\n",
       "2  B00000DM9W      5.0\n",
       "3  B00000J05A      3.0\n",
       "4  B00000J061      5.0"
      ]
     },
     "execution_count": 94,
     "metadata": {},
     "output_type": "execute_result"
    }
   ],
   "source": [
    "train_data_grouped.head()"
   ]
  },
  {
   "cell_type": "code",
   "execution_count": 95,
   "metadata": {},
   "outputs": [],
   "source": [
    "train_data_sort = train_data_grouped.sort_values(['ratings', 'productID'], ascending=False)"
   ]
  },
  {
   "cell_type": "code",
   "execution_count": 96,
   "metadata": {},
   "outputs": [
    {
     "data": {
      "text/html": [
       "<div>\n",
       "<style scoped>\n",
       "    .dataframe tbody tr th:only-of-type {\n",
       "        vertical-align: middle;\n",
       "    }\n",
       "\n",
       "    .dataframe tbody tr th {\n",
       "        vertical-align: top;\n",
       "    }\n",
       "\n",
       "    .dataframe thead th {\n",
       "        text-align: right;\n",
       "    }\n",
       "</style>\n",
       "<table border=\"1\" class=\"dataframe\">\n",
       "  <thead>\n",
       "    <tr style=\"text-align: right;\">\n",
       "      <th></th>\n",
       "      <th>productID</th>\n",
       "      <th>ratings</th>\n",
       "    </tr>\n",
       "  </thead>\n",
       "  <tbody>\n",
       "    <tr>\n",
       "      <th>749</th>\n",
       "      <td>B000ICZZJG</td>\n",
       "      <td>5.0</td>\n",
       "    </tr>\n",
       "    <tr>\n",
       "      <th>746</th>\n",
       "      <td>B000I20AJ6</td>\n",
       "      <td>5.0</td>\n",
       "    </tr>\n",
       "    <tr>\n",
       "      <th>745</th>\n",
       "      <td>B000I1ZWRC</td>\n",
       "      <td>5.0</td>\n",
       "    </tr>\n",
       "    <tr>\n",
       "      <th>743</th>\n",
       "      <td>B000I1X6PM</td>\n",
       "      <td>5.0</td>\n",
       "    </tr>\n",
       "    <tr>\n",
       "      <th>741</th>\n",
       "      <td>B000HZD2XK</td>\n",
       "      <td>5.0</td>\n",
       "    </tr>\n",
       "  </tbody>\n",
       "</table>\n",
       "</div>"
      ],
      "text/plain": [
       "      productID  ratings\n",
       "749  B000ICZZJG      5.0\n",
       "746  B000I20AJ6      5.0\n",
       "745  B000I1ZWRC      5.0\n",
       "743  B000I1X6PM      5.0\n",
       "741  B000HZD2XK      5.0"
      ]
     },
     "execution_count": 96,
     "metadata": {},
     "output_type": "execute_result"
    }
   ],
   "source": [
    "train_data_sort.head()"
   ]
  },
  {
   "cell_type": "code",
   "execution_count": 97,
   "metadata": {},
   "outputs": [
    {
     "data": {
      "text/plain": [
       "productID\n",
       "B000BKJZ9Q    5\n",
       "B00007KDVI    4\n",
       "B0000AKVHF    4\n",
       "B0009RKL5S    3\n",
       "B0000659UN    3\n",
       "B00009R6TA    3\n",
       "B00004SB92    3\n",
       "B00004ZCJE    3\n",
       "B0000645C8    3\n",
       "B00008VF63    3\n",
       "Name: ratings, dtype: int64"
      ]
     },
     "execution_count": 97,
     "metadata": {},
     "output_type": "execute_result"
    }
   ],
   "source": [
    "train_data.groupby('productID')['ratings'].count().sort_values(ascending=False).head(10) "
   ]
  },
  {
   "cell_type": "code",
   "execution_count": 98,
   "metadata": {},
   "outputs": [],
   "source": [
    "ratings_mean_count = pd.DataFrame(train_data.groupby('productID')['ratings'].mean()) "
   ]
  },
  {
   "cell_type": "code",
   "execution_count": 99,
   "metadata": {},
   "outputs": [],
   "source": [
    "ratings_mean_count['rating_counts'] = pd.DataFrame(train_data.groupby('productID')['ratings'].count())  "
   ]
  },
  {
   "cell_type": "code",
   "execution_count": 100,
   "metadata": {},
   "outputs": [
    {
     "data": {
      "text/html": [
       "<div>\n",
       "<style scoped>\n",
       "    .dataframe tbody tr th:only-of-type {\n",
       "        vertical-align: middle;\n",
       "    }\n",
       "\n",
       "    .dataframe tbody tr th {\n",
       "        vertical-align: top;\n",
       "    }\n",
       "\n",
       "    .dataframe thead th {\n",
       "        text-align: right;\n",
       "    }\n",
       "</style>\n",
       "<table border=\"1\" class=\"dataframe\">\n",
       "  <thead>\n",
       "    <tr style=\"text-align: right;\">\n",
       "      <th></th>\n",
       "      <th>ratings</th>\n",
       "      <th>rating_counts</th>\n",
       "    </tr>\n",
       "    <tr>\n",
       "      <th>productID</th>\n",
       "      <th></th>\n",
       "      <th></th>\n",
       "    </tr>\n",
       "  </thead>\n",
       "  <tbody>\n",
       "    <tr>\n",
       "      <th>1400532655</th>\n",
       "      <td>1.0</td>\n",
       "      <td>1</td>\n",
       "    </tr>\n",
       "    <tr>\n",
       "      <th>B000001OMI</th>\n",
       "      <td>5.0</td>\n",
       "      <td>1</td>\n",
       "    </tr>\n",
       "    <tr>\n",
       "      <th>B00000DM9W</th>\n",
       "      <td>5.0</td>\n",
       "      <td>1</td>\n",
       "    </tr>\n",
       "    <tr>\n",
       "      <th>B00000J05A</th>\n",
       "      <td>3.0</td>\n",
       "      <td>1</td>\n",
       "    </tr>\n",
       "    <tr>\n",
       "      <th>B00000J061</th>\n",
       "      <td>5.0</td>\n",
       "      <td>1</td>\n",
       "    </tr>\n",
       "  </tbody>\n",
       "</table>\n",
       "</div>"
      ],
      "text/plain": [
       "            ratings  rating_counts\n",
       "productID                         \n",
       "1400532655      1.0              1\n",
       "B000001OMI      5.0              1\n",
       "B00000DM9W      5.0              1\n",
       "B00000J05A      3.0              1\n",
       "B00000J061      5.0              1"
      ]
     },
     "execution_count": 100,
     "metadata": {},
     "output_type": "execute_result"
    }
   ],
   "source": [
    "ratings_mean_count.head()  "
   ]
  },
  {
   "cell_type": "code",
   "execution_count": 101,
   "metadata": {},
   "outputs": [],
   "source": [
    "pred_df = test_data[['userID', 'productID', 'ratings']]"
   ]
  },
  {
   "cell_type": "code",
   "execution_count": 102,
   "metadata": {},
   "outputs": [],
   "source": [
    "pred_df.rename(columns = {'ratings' : 'true_ratings'}, inplace=True)"
   ]
  },
  {
   "cell_type": "code",
   "execution_count": 3,
   "metadata": {},
   "outputs": [
    {
     "ename": "NameError",
     "evalue": "name 'pred_df' is not defined",
     "output_type": "error",
     "traceback": [
      "\u001b[1;31m---------------------------------------------------------------------------\u001b[0m",
      "\u001b[1;31mNameError\u001b[0m                                 Traceback (most recent call last)",
      "\u001b[1;32m<ipython-input-3-699aceaba751>\u001b[0m in \u001b[0;36m<module>\u001b[1;34m\u001b[0m\n\u001b[1;32m----> 1\u001b[1;33m \u001b[0mpred_df\u001b[0m\u001b[1;33m.\u001b[0m\u001b[0mhead\u001b[0m\u001b[1;33m(\u001b[0m\u001b[1;36m3\u001b[0m\u001b[1;33m)\u001b[0m\u001b[1;33m\u001b[0m\u001b[1;33m\u001b[0m\u001b[0m\n\u001b[0m",
      "\u001b[1;31mNameError\u001b[0m: name 'pred_df' is not defined"
     ]
    }
   ],
   "source": [
    "pred_df.head(3)"
   ]
  },
  {
   "cell_type": "code",
   "execution_count": 103,
   "metadata": {},
   "outputs": [],
   "source": [
    "pred_df = pred_df.merge(train_data_sort, left_on='productID', right_on = 'productID')"
   ]
  },
  {
   "cell_type": "code",
   "execution_count": 104,
   "metadata": {},
   "outputs": [
    {
     "data": {
      "text/html": [
       "<div>\n",
       "<style scoped>\n",
       "    .dataframe tbody tr th:only-of-type {\n",
       "        vertical-align: middle;\n",
       "    }\n",
       "\n",
       "    .dataframe tbody tr th {\n",
       "        vertical-align: top;\n",
       "    }\n",
       "\n",
       "    .dataframe thead th {\n",
       "        text-align: right;\n",
       "    }\n",
       "</style>\n",
       "<table border=\"1\" class=\"dataframe\">\n",
       "  <thead>\n",
       "    <tr style=\"text-align: right;\">\n",
       "      <th></th>\n",
       "      <th>userID</th>\n",
       "      <th>productID</th>\n",
       "      <th>true_ratings</th>\n",
       "      <th>ratings</th>\n",
       "    </tr>\n",
       "  </thead>\n",
       "  <tbody>\n",
       "    <tr>\n",
       "      <th>0</th>\n",
       "      <td>A1F9Z42CFF9IAY</td>\n",
       "      <td>B000AJIF4E</td>\n",
       "      <td>2</td>\n",
       "      <td>5.0</td>\n",
       "    </tr>\n",
       "    <tr>\n",
       "      <th>1</th>\n",
       "      <td>AT6CZDCP4TRGA</td>\n",
       "      <td>B00062QY5W</td>\n",
       "      <td>1</td>\n",
       "      <td>5.0</td>\n",
       "    </tr>\n",
       "    <tr>\n",
       "      <th>2</th>\n",
       "      <td>A2BGZ52M908MJY</td>\n",
       "      <td>B00004W3YX</td>\n",
       "      <td>4</td>\n",
       "      <td>5.0</td>\n",
       "    </tr>\n",
       "  </tbody>\n",
       "</table>\n",
       "</div>"
      ],
      "text/plain": [
       "           userID   productID  true_ratings  ratings\n",
       "0  A1F9Z42CFF9IAY  B000AJIF4E             2      5.0\n",
       "1   AT6CZDCP4TRGA  B00062QY5W             1      5.0\n",
       "2  A2BGZ52M908MJY  B00004W3YX             4      5.0"
      ]
     },
     "execution_count": 104,
     "metadata": {},
     "output_type": "execute_result"
    }
   ],
   "source": [
    "pred_df.head(3)"
   ]
  },
  {
   "cell_type": "code",
   "execution_count": 105,
   "metadata": {},
   "outputs": [],
   "source": [
    "pred_df.rename(columns = {'ratings' : 'predicted_ratings'}, inplace = True)"
   ]
  },
  {
   "cell_type": "code",
   "execution_count": 106,
   "metadata": {},
   "outputs": [
    {
     "data": {
      "text/html": [
       "<div>\n",
       "<style scoped>\n",
       "    .dataframe tbody tr th:only-of-type {\n",
       "        vertical-align: middle;\n",
       "    }\n",
       "\n",
       "    .dataframe tbody tr th {\n",
       "        vertical-align: top;\n",
       "    }\n",
       "\n",
       "    .dataframe thead th {\n",
       "        text-align: right;\n",
       "    }\n",
       "</style>\n",
       "<table border=\"1\" class=\"dataframe\">\n",
       "  <thead>\n",
       "    <tr style=\"text-align: right;\">\n",
       "      <th></th>\n",
       "      <th>userID</th>\n",
       "      <th>productID</th>\n",
       "      <th>true_ratings</th>\n",
       "      <th>predicted_ratings</th>\n",
       "    </tr>\n",
       "  </thead>\n",
       "  <tbody>\n",
       "    <tr>\n",
       "      <th>0</th>\n",
       "      <td>A1F9Z42CFF9IAY</td>\n",
       "      <td>B000AJIF4E</td>\n",
       "      <td>2</td>\n",
       "      <td>5.0</td>\n",
       "    </tr>\n",
       "    <tr>\n",
       "      <th>1</th>\n",
       "      <td>AT6CZDCP4TRGA</td>\n",
       "      <td>B00062QY5W</td>\n",
       "      <td>1</td>\n",
       "      <td>5.0</td>\n",
       "    </tr>\n",
       "    <tr>\n",
       "      <th>2</th>\n",
       "      <td>A2BGZ52M908MJY</td>\n",
       "      <td>B00004W3YX</td>\n",
       "      <td>4</td>\n",
       "      <td>5.0</td>\n",
       "    </tr>\n",
       "    <tr>\n",
       "      <th>3</th>\n",
       "      <td>A2B7BUH8834Y6M</td>\n",
       "      <td>B000BQ7GW8</td>\n",
       "      <td>5</td>\n",
       "      <td>5.0</td>\n",
       "    </tr>\n",
       "    <tr>\n",
       "      <th>4</th>\n",
       "      <td>A231WM2Z2JL0U3</td>\n",
       "      <td>B00007K3A3</td>\n",
       "      <td>4</td>\n",
       "      <td>5.0</td>\n",
       "    </tr>\n",
       "  </tbody>\n",
       "</table>\n",
       "</div>"
      ],
      "text/plain": [
       "           userID   productID  true_ratings  predicted_ratings\n",
       "0  A1F9Z42CFF9IAY  B000AJIF4E             2                5.0\n",
       "1   AT6CZDCP4TRGA  B00062QY5W             1                5.0\n",
       "2  A2BGZ52M908MJY  B00004W3YX             4                5.0\n",
       "3  A2B7BUH8834Y6M  B000BQ7GW8             5                5.0\n",
       "4  A231WM2Z2JL0U3  B00007K3A3             4                5.0"
      ]
     },
     "execution_count": 106,
     "metadata": {},
     "output_type": "execute_result"
    }
   ],
   "source": [
    "pred_df.head()"
   ]
  },
  {
   "cell_type": "code",
   "execution_count": 107,
   "metadata": {},
   "outputs": [
    {
     "name": "stdout",
     "output_type": "stream",
     "text": [
      "The RMSE value for Popularity Recommender model is 1.489930358479308\n"
     ]
    }
   ],
   "source": [
    "import sklearn.metrics as metric\n",
    "from math import sqrt\n",
    "MSE = metric.mean_squared_error(pred_df['true_ratings'], pred_df['predicted_ratings'])\n",
    "print('The RMSE value for Popularity Recommender model is', sqrt(MSE))"
   ]
  },
  {
   "cell_type": "markdown",
   "metadata": {},
   "source": [
    "# Model 2: Build Collaborative Filtering model"
   ]
  },
  {
   "cell_type": "code",
   "execution_count": 110,
   "metadata": {},
   "outputs": [
    {
     "name": "stdout",
     "output_type": "stream",
     "text": [
      "Collecting package metadata (current_repodata.json): ...working... done\n",
      "Solving environment: ...working... done\n",
      "\n",
      "## Package Plan ##\n",
      "\n",
      "  environment location: C:\\Users\\navee\\anaconda3\n",
      "\n",
      "  added / updated specs:\n",
      "    - scikit-surprise\n",
      "\n",
      "\n",
      "The following packages will be downloaded:\n",
      "\n",
      "Note: you may need to restart the kernel to use updated packages.\n",
      "    package                    |            build\n",
      "    ---------------------------|-----------------\n",
      "    conda-4.10.1               |   py38haa244fe_0         3.1 MB  conda-forge\n",
      "    python_abi-3.8             |           1_cp38           4 KB  conda-forge\n",
      "    scikit-surprise-1.1.1      |   py38h1e00858_1         567 KB  conda-forge\n",
      "    ------------------------------------------------------------\n",
      "                                           Total:         3.6 MB\n",
      "\n",
      "\n"
     ]
    },
    {
     "name": "stderr",
     "output_type": "stream",
     "text": [
      "\n",
      "\n",
      "==> WARNING: A newer version of conda exists. <==\n",
      "  current version: 4.8.3\n",
      "  latest version: 4.10.1\n",
      "\n",
      "Please update conda by running\n",
      "\n",
      "    $ conda update -n base -c defaults conda\n",
      "\n",
      "\n"
     ]
    },
    {
     "name": "stdout",
     "output_type": "stream",
     "text": [
      "The following NEW packages will be INSTALLED:\n",
      "\n",
      "  python_abi         conda-forge/win-64::python_abi-3.8-1_cp38\n",
      "  scikit-surprise    conda-forge/win-64::scikit-surprise-1.1.1-py38h1e00858_1\n",
      "\n",
      "The following packages will be UPDATED:\n",
      "\n",
      "  conda                       pkgs/main::conda-4.8.3-py38_0 --> conda-forge::conda-4.10.1-py38haa244fe_0\n",
      "\n",
      "\n",
      "\n",
      "Downloading and Extracting Packages\n",
      "\n",
      "scikit-surprise-1.1. | 567 KB    |            |   0% \n",
      "scikit-surprise-1.1. | 567 KB    | 2          |   3% \n",
      "scikit-surprise-1.1. | 567 KB    | 5          |   6% \n",
      "scikit-surprise-1.1. | 567 KB    | ##8        |  28% \n",
      "scikit-surprise-1.1. | 567 KB    | ####2      |  42% \n",
      "scikit-surprise-1.1. | 567 KB    | ######2    |  62% \n",
      "scikit-surprise-1.1. | 567 KB    | ########1  |  82% \n",
      "scikit-surprise-1.1. | 567 KB    | ########## | 100% \n",
      "\n",
      "python_abi-3.8       | 4 KB      |            |   0% \n",
      "python_abi-3.8       | 4 KB      | ########## | 100% \n",
      "\n",
      "conda-4.10.1         | 3.1 MB    |            |   0% \n",
      "conda-4.10.1         | 3.1 MB    |            |   1% \n",
      "conda-4.10.1         | 3.1 MB    | 3          |   4% \n",
      "conda-4.10.1         | 3.1 MB    | 5          |   5% \n",
      "conda-4.10.1         | 3.1 MB    | 6          |   7% \n",
      "conda-4.10.1         | 3.1 MB    | #3         |  13% \n",
      "conda-4.10.1         | 3.1 MB    | #9         |  19% \n",
      "conda-4.10.1         | 3.1 MB    | ##2        |  23% \n",
      "conda-4.10.1         | 3.1 MB    | ##7        |  28% \n",
      "conda-4.10.1         | 3.1 MB    | ###3       |  34% \n",
      "conda-4.10.1         | 3.1 MB    | ###7       |  37% \n",
      "conda-4.10.1         | 3.1 MB    | ####       |  41% \n",
      "conda-4.10.1         | 3.1 MB    | ####4      |  44% \n",
      "conda-4.10.1         | 3.1 MB    | #####      |  50% \n",
      "conda-4.10.1         | 3.1 MB    | #####5     |  55% \n",
      "conda-4.10.1         | 3.1 MB    | #####9     |  59% \n",
      "conda-4.10.1         | 3.1 MB    | ######3    |  63% \n",
      "conda-4.10.1         | 3.1 MB    | ######7    |  68% \n",
      "conda-4.10.1         | 3.1 MB    | #######1   |  72% \n",
      "conda-4.10.1         | 3.1 MB    | #######6   |  77% \n",
      "conda-4.10.1         | 3.1 MB    | ########1  |  82% \n",
      "conda-4.10.1         | 3.1 MB    | ########6  |  86% \n",
      "conda-4.10.1         | 3.1 MB    | #########  |  90% \n",
      "conda-4.10.1         | 3.1 MB    | ########## | 100% \n",
      "Preparing transaction: ...working... done\n",
      "Verifying transaction: ...working... done\n",
      "Executing transaction: ...working... done\n"
     ]
    }
   ],
   "source": [
    "conda install -c conda-forge scikit-surprise"
   ]
  },
  {
   "cell_type": "code",
   "execution_count": 111,
   "metadata": {},
   "outputs": [],
   "source": [
    "import surprise\n",
    "from surprise import KNNWithMeans\n",
    "from surprise.model_selection import GridSearchCV\n",
    "from surprise import Dataset\n",
    "from surprise import accuracy\n",
    "from surprise import Reader\n",
    "from surprise.model_selection import train_test_split"
   ]
  },
  {
   "cell_type": "code",
   "execution_count": 112,
   "metadata": {},
   "outputs": [],
   "source": [
    "reader = Reader(rating_scale=(0.5, 5.0))"
   ]
  },
  {
   "cell_type": "markdown",
   "metadata": {},
   "source": [
    "# Converting Pandas Dataframe to Surpise format"
   ]
  },
  {
   "cell_type": "code",
   "execution_count": 113,
   "metadata": {},
   "outputs": [],
   "source": [
    "data = Dataset.load_from_df(top_ratings_df[['userID', 'productID', 'ratings']],reader)"
   ]
  },
  {
   "cell_type": "code",
   "execution_count": 114,
   "metadata": {},
   "outputs": [],
   "source": [
    "# Split data to train and test\n",
    "from surprise.model_selection import train_test_split\n",
    "trainset, testset = train_test_split(data, test_size=.3,random_state=0)"
   ]
  },
  {
   "cell_type": "code",
   "execution_count": 115,
   "metadata": {},
   "outputs": [
    {
     "data": {
      "text/plain": [
       "surprise.trainset.Trainset"
      ]
     },
     "execution_count": 115,
     "metadata": {},
     "output_type": "execute_result"
    }
   ],
   "source": [
    "type(trainset)"
   ]
  },
  {
   "cell_type": "markdown",
   "metadata": {},
   "source": [
    "# Training the model"
   ]
  },
  {
   "cell_type": "markdown",
   "metadata": {},
   "source": [
    "**KNNWithMeans**"
   ]
  },
  {
   "cell_type": "code",
   "execution_count": 116,
   "metadata": {},
   "outputs": [
    {
     "name": "stdout",
     "output_type": "stream",
     "text": [
      "Estimating biases using als...\n",
      "Computing the pearson_baseline similarity matrix...\n",
      "Done computing similarity matrix.\n"
     ]
    },
    {
     "data": {
      "text/plain": [
       "<surprise.prediction_algorithms.knns.KNNWithMeans at 0x22e0e211f10>"
      ]
     },
     "execution_count": 116,
     "metadata": {},
     "output_type": "execute_result"
    }
   ],
   "source": [
    "algo_user = KNNWithMeans(k=10, min_k=6, sim_options={'name': 'pearson_baseline', 'user_based': True})\n",
    "algo_user.fit(trainset)"
   ]
  },
  {
   "cell_type": "markdown",
   "metadata": {},
   "source": [
    "**SVD**"
   ]
  },
  {
   "cell_type": "code",
   "execution_count": 119,
   "metadata": {},
   "outputs": [
    {
     "data": {
      "text/plain": [
       "<surprise.prediction_algorithms.matrix_factorization.SVD at 0x22e0e211820>"
      ]
     },
     "execution_count": 119,
     "metadata": {},
     "output_type": "execute_result"
    }
   ],
   "source": [
    "svd_model = SVD(n_factors=50,reg_all=0.02)\n",
    "svd_model.fit(trainset)"
   ]
  },
  {
   "cell_type": "markdown",
   "metadata": {},
   "source": [
    "#  Evaluate both the models. ( Once the model is trained on the training data, it can be used to compute the error (like RMSE) on predictions made on the test data.) You can also use a different method to evaluate the models."
   ]
  },
  {
   "cell_type": "markdown",
   "metadata": {},
   "source": [
    " **Popularity Recommender Model (RMSE)**\n"
   ]
  },
  {
   "cell_type": "code",
   "execution_count": 120,
   "metadata": {},
   "outputs": [
    {
     "name": "stdout",
     "output_type": "stream",
     "text": [
      "The RMSE value for Popularity Recommender model is 1.489930358479308\n"
     ]
    }
   ],
   "source": [
    "MSE = metric.mean_squared_error(pred_df['true_ratings'], pred_df['predicted_ratings'])\n",
    "print('The RMSE value for Popularity Recommender model is', sqrt(MSE))"
   ]
  },
  {
   "cell_type": "markdown",
   "metadata": {},
   "source": [
    "**Collaborative Filtering Recommender Model (RMSE)**"
   ]
  },
  {
   "cell_type": "code",
   "execution_count": 121,
   "metadata": {},
   "outputs": [
    {
     "name": "stdout",
     "output_type": "stream",
     "text": [
      "402\n"
     ]
    },
    {
     "data": {
      "text/plain": [
       "list"
      ]
     },
     "execution_count": 121,
     "metadata": {},
     "output_type": "execute_result"
    }
   ],
   "source": [
    "print(len(testset))\n",
    "type(testset)"
   ]
  },
  {
   "cell_type": "markdown",
   "metadata": {},
   "source": [
    "**KNNWithMeans**"
   ]
  },
  {
   "cell_type": "code",
   "execution_count": 122,
   "metadata": {},
   "outputs": [
    {
     "data": {
      "text/plain": [
       "Prediction(uid='A11D1KHM7DVOQK', iid='B00005T39Y', r_ui=4.0, est=4.193169690501601, details={'was_impossible': True, 'reason': 'User and/or item is unknown.'})"
      ]
     },
     "execution_count": 122,
     "metadata": {},
     "output_type": "execute_result"
    }
   ],
   "source": [
    "# Evalute on test set\n",
    "test_pred = algo_user.test(testset)\n",
    "test_pred[0]"
   ]
  },
  {
   "cell_type": "code",
   "execution_count": 123,
   "metadata": {},
   "outputs": [
    {
     "name": "stdout",
     "output_type": "stream",
     "text": [
      "RMSE: 1.0826\n"
     ]
    },
    {
     "data": {
      "text/plain": [
       "1.082561990239296"
      ]
     },
     "execution_count": 123,
     "metadata": {},
     "output_type": "execute_result"
    }
   ],
   "source": [
    "# compute RMSE\n",
    "accuracy.rmse(test_pred) #range of value of error"
   ]
  },
  {
   "cell_type": "markdown",
   "metadata": {},
   "source": [
    "**SVD**"
   ]
  },
  {
   "cell_type": "code",
   "execution_count": 124,
   "metadata": {},
   "outputs": [],
   "source": [
    "test_pred = svd_model.test(testset)"
   ]
  },
  {
   "cell_type": "code",
   "execution_count": 125,
   "metadata": {},
   "outputs": [
    {
     "name": "stdout",
     "output_type": "stream",
     "text": [
      "RMSE: 1.0517\n"
     ]
    },
    {
     "data": {
      "text/plain": [
       "1.051664196582147"
      ]
     },
     "execution_count": 125,
     "metadata": {},
     "output_type": "execute_result"
    }
   ],
   "source": [
    "# compute RMSE\n",
    "accuracy.rmse(test_pred)"
   ]
  },
  {
   "cell_type": "markdown",
   "metadata": {},
   "source": [
    " **Parameter tuning of SVD Recommendation system**"
   ]
  },
  {
   "cell_type": "code",
   "execution_count": 126,
   "metadata": {},
   "outputs": [],
   "source": [
    "from surprise.model_selection import GridSearchCV\n",
    "param_grid = {'n_factors' : [5,10,15], \"reg_all\":[0.01,0.02]}\n",
    "gs = GridSearchCV(SVD, param_grid, measures=['rmse'], cv=3,refit = True)"
   ]
  },
  {
   "cell_type": "code",
   "execution_count": 127,
   "metadata": {},
   "outputs": [],
   "source": [
    "gs.fit(data)"
   ]
  },
  {
   "cell_type": "code",
   "execution_count": 128,
   "metadata": {},
   "outputs": [
    {
     "data": {
      "text/plain": [
       "{'rmse': {'n_factors': 10, 'reg_all': 0.02}}"
      ]
     },
     "execution_count": 128,
     "metadata": {},
     "output_type": "execute_result"
    }
   ],
   "source": [
    "# get best parameters\n",
    "gs.best_params"
   ]
  },
  {
   "cell_type": "code",
   "execution_count": 129,
   "metadata": {},
   "outputs": [
    {
     "name": "stdout",
     "output_type": "stream",
     "text": [
      "RMSE: 0.8976\n"
     ]
    },
    {
     "data": {
      "text/plain": [
       "0.897648395759205"
      ]
     },
     "execution_count": 129,
     "metadata": {},
     "output_type": "execute_result"
    }
   ],
   "source": [
    "# Use the \"best model\" for prediction\n",
    "gs.test(testset)\n",
    "accuracy.rmse(gs.test(testset))"
   ]
  },
  {
   "cell_type": "markdown",
   "metadata": {},
   "source": [
    "# Get top - K ( K = 5) recommendations. Since our goal is to recommend new products to each user based on his/her habits, we will recommend 5 new products."
   ]
  },
  {
   "cell_type": "code",
   "execution_count": 130,
   "metadata": {},
   "outputs": [],
   "source": [
    "from collections import defaultdict\n",
    "def get_top_n(predictions, n=5):\n",
    "  \n",
    "    # First map the predictions to each user.\n",
    "    top_n = defaultdict(list)\n",
    "    for uid, iid, true_r, est, _ in predictions:\n",
    "        top_n[uid].append((iid, est))\n",
    "\n",
    "    # Then sort the predictions for each user and retrieve the k highest ones.\n",
    "    for uid, user_ratings in top_n.items():\n",
    "        user_ratings.sort(key=lambda x: x[1], reverse=True)\n",
    "        top_n[uid] = user_ratings[:n]\n",
    "\n",
    "    return top_n"
   ]
  },
  {
   "cell_type": "code",
   "execution_count": 131,
   "metadata": {},
   "outputs": [],
   "source": [
    "top_n = get_top_n(test_pred, n=5)"
   ]
  },
  {
   "cell_type": "code",
   "execution_count": 132,
   "metadata": {},
   "outputs": [
    {
     "name": "stdout",
     "output_type": "stream",
     "text": [
      "A11D1KHM7DVOQK ['B00005T39Y', 'B0001IXUEE', 'B000069106', 'B00007DN1E', 'B0006B486K']\n",
      "A38QEATH3NODFM ['B00009QSET', 'B000EUJ1Q0', 'B000BONJXU', 'B0001H4BMU', 'B000F3H9UG']\n",
      "A1FR68QH6Z4YZM ['B0000AKVHF', 'B00020KPB2', 'B000FKQ8LA', 'B000AZ57M6', 'B0000DYTDJ']\n",
      "A2AY4YUOX2N1BQ ['B0002LEMWE', 'B00009UT3F', 'B00006RH5I', 'B0002L5R78', 'B0007QU6WY']\n",
      "A2AEZQ3DGBBLPR ['B00005QXWI', 'B000A3WS20', 'B00004Y2MM', 'B000066TPN', 'B000056SSM']\n",
      "A231WM2Z2JL0U3 ['B00004VX3T', 'B00005QFZG', 'B000050NON', 'B00006IS65', 'B00005QXWI']\n",
      "A5JLAU2ARJ0BO ['B00005MOZG', 'B0001F22PA', 'B000BKJZ9Q', 'B00008I9K8', 'B0000CEOYI']\n",
      "A2R6RA8FRBS608 ['B00004Z5M1', 'B0000E1717', 'B0002Z240M', 'B0009MX5R4', 'B00006IW1X']\n",
      "A3OXHLG6DIBRW8 ['B000BKY3Q6', 'B000B5H2BE', 'B000F5FKHI', 'B0009PAYY8', 'B000G5S4JI']\n",
      "AGXV8E7XK9J6H ['B000AZ57M6', 'B0007WK8KS', 'B00009R6TA', 'B0002YE686', 'B00092GM0Q']\n",
      "A680RUE1FDO8B ['B0002CPBUK', 'B000E5CYW8', 'B0009S5HQA', 'B0002MPMKE', 'B000AA2IC8']\n",
      "ALUNVOQRXOZIA ['B000EVS4YE', 'B00006G2OJ', 'B00065AO0K', 'B00002SWHH']\n",
      "AT2J7H5TRZM8Z ['B0000645C8', 'B00006JKXN', 'B0000659UN', 'B00005V619', 'B00000J4FS']\n",
      "A2B7BUH8834Y6M ['B00009R6WO', 'B0007KX4TM', 'B000GAUZFO', 'B0001WW3F2', 'B00006LK1O']\n",
      "A1F9Z42CFF9IAY ['B00009R6TA', 'B00009RUCH', 'B0007MXZB2', 'B0006Q7FFG', 'B00007E7QS']\n",
      "A6FIAB28IS79 ['B00005T408', 'B0007LJHVK', 'B00005AWBJ', 'B00009W3TY', 'B000023VUL']\n",
      "A203OCQQ12MAVT ['B0000TU7I6', 'B000BN94F8', 'B0002MQGOK', 'B0003NN83K', 'B000I20AJ6']\n",
      "A1ODOGXEYECQQ8 ['B000FVDD30', 'B000ERAON2', 'B000A5TAT2', 'B0009KUHLI', 'B000HPZ97W']\n",
      "A1435P5AMCPB3X ['B000204SWE', 'B0002GV876', 'B000779RZA', 'B000FFRZ1W', 'B00008Y1BX']\n",
      "A2XRMQA6PJ5ZJ8 ['B000BQ7GW8', 'B00004ZCJE', 'B0000C8VEK', 'B00009MDBQ', 'B000GEQ0HW']\n",
      "A149RNR5RH19YY ['B00003006E', 'B000089GN3', 'B000BO0SGG', 'B000FJJASO', 'B000085BCX']\n",
      "A3NCIN6TNL0MGA ['B0001FTVDQ', 'B000AUQICO', 'B000A6NV0U', 'B00008W2LC', 'B0006GBD5O']\n",
      "ABH9D1TEOJ56E ['B00006JLOT', 'B00006JLOS', 'B00008O35W', 'B00008O35T', 'B00008I9K8']\n",
      "AGHZXQL9F94T9 ['B00008OE5G', 'B00008L3HY', 'B00009VSG6', 'B0002ZAIMI', 'B0007VMROE']\n",
      "A15QYHQH80W30L ['B00007EDZG', 'B000BY52NK', 'B0007DDK7A', 'B000BY52O4', 'B000BH5OW6']\n",
      "AT6CZDCP4TRGA ['B000HZDF8W', 'B0002ZPJZY', 'B00006J054', 'B0002INUIY', 'B0002ZSFTG']\n",
      "AKT8TGIT6VVZ5 ['B0007OV46S', 'B00009XVCZ', 'B000EBM7N8', 'B000EBK3FW', 'B00005LE75']\n",
      "AWPODHOB4GFWL ['B000HCGAFK', 'B0007OWNCC', 'B00013M6NK', 'B000BSJDZE', 'B0007Y79AI']\n",
      "A1JWSDDIH5Z7DV ['B00005137P', 'B000HEW0KW', 'B00004SB92']\n",
      "A1RPTVW5VEOSI ['B00005OT5X', 'B00005NVBF', 'B00019JPRO', 'B000058BCQ', 'B000EVSLRO']\n",
      "A1VQHH85U7PX0 ['B000AZ57M6', 'B000EY5F5C', 'B000FNDWLQ', 'B00067LYFW', 'B000BHQCP4']\n",
      "A1MJMYLRTZ76ZX ['B00004ZCJE', 'B0002LEMWE', 'B000021YUO', 'B000BKJZ9Q', 'B00005NHH8']\n",
      "A7Y6AVS576M03 ['B000089GN3', 'B000ELSY0I', 'B0001ML86C', 'B000ELC0GM', 'B00005ATMI']\n",
      "A250AXLRBVYKB4 ['B000FJJASO', 'B00004WLJ9', 'B00004Z5KA', 'B000GC98H8', 'B0006BGV2Y']\n",
      "A2CL818RN52NWN ['B0007VMROE', 'B0002LHSG6', 'B0002IQ1I0', 'B000083CUA', 'B0002AHRVI']\n",
      "A25HBO5V8S8SEA ['B0001A06GW', 'B0000AKVJC', 'B0001F1ZY4', 'B00006HXF4']\n",
      "A2BGZ52M908MJY ['B00005ALB1', 'B00004TEN2']\n",
      "A12DLJESJKM1OQ ['B00008OE6I', 'B0000DBJJT']\n"
     ]
    }
   ],
   "source": [
    "# Print the recommended items for each user\n",
    "for uid, user_ratings in top_n.items():\n",
    "    print(uid, [iid for (iid, _) in user_ratings])"
   ]
  },
  {
   "cell_type": "markdown",
   "metadata": {},
   "source": [
    "# Case 3: Cluster method search based recommendation"
   ]
  },
  {
   "cell_type": "code",
   "execution_count": 21,
   "metadata": {},
   "outputs": [],
   "source": [
    "from sklearn.feature_extraction.text import TfidfVectorizer, CountVectorizer\n",
    "from sklearn.neighbors import NearestNeighbors\n",
    "from sklearn.cluster import KMeans\n",
    "from sklearn.metrics import adjusted_rand_score"
   ]
  },
  {
   "cell_type": "code",
   "execution_count": 22,
   "metadata": {},
   "outputs": [
    {
     "data": {
      "text/plain": [
       "(100, 2)"
      ]
     },
     "execution_count": 22,
     "metadata": {},
     "output_type": "execute_result"
    }
   ],
   "source": [
    "product_descriptions = pd.read_csv('C:/College work/ML Database/product.csv')\n",
    "product_descriptions = product_descriptions.dropna()\n",
    "product_descriptions.shape"
   ]
  },
  {
   "cell_type": "code",
   "execution_count": 23,
   "metadata": {},
   "outputs": [],
   "source": [
    "product_descriptions1 = product_descriptions"
   ]
  },
  {
   "cell_type": "code",
   "execution_count": 24,
   "metadata": {},
   "outputs": [],
   "source": [
    "vectorizer = TfidfVectorizer(stop_words='english')\n",
    "X1 = vectorizer.fit_transform(product_descriptions1[\"product_description\"])\n",
    "X=X1\n",
    "\n",
    "kmeans = KMeans(n_clusters = 10, init = 'k-means++')\n",
    "y_kmeans = kmeans.fit_predict(X)"
   ]
  },
  {
   "cell_type": "code",
   "execution_count": 28,
   "metadata": {},
   "outputs": [],
   "source": [
    "def print_cluster(i):\n",
    "    print(\"Cluster %d:\" % i),\n",
    "    for ind in order_centroids[i, :10]:\n",
    "        print(' %s' % terms[ind]),\n",
    "    print"
   ]
  },
  {
   "cell_type": "code",
   "execution_count": 33,
   "metadata": {},
   "outputs": [],
   "source": [
    "true_k = 10\n",
    "\n",
    "model = KMeans(n_clusters=true_k, init='k-means++', max_iter=100, n_init=1)\n",
    "model.fit(X1)\n",
    "order_centroids = model.cluster_centers_.argsort()[:, ::-1]\n",
    "terms = vectorizer.get_feature_names()"
   ]
  },
  {
   "cell_type": "code",
   "execution_count": 34,
   "metadata": {},
   "outputs": [],
   "source": [
    "def show_recommendations(product):\n",
    "    #print(\"Cluster ID:\")\n",
    "    Y = vectorizer.transform([product])\n",
    "    prediction = model.predict(Y)\n",
    "    #print(prediction)\n",
    "    print_cluster(prediction[0])"
   ]
  },
  {
   "cell_type": "code",
   "execution_count": 35,
   "metadata": {},
   "outputs": [
    {
     "name": "stdout",
     "output_type": "stream",
     "text": [
      "Cluster 9:\n",
      " water\n",
      " help\n",
      " head\n",
      " design\n",
      " toilet\n",
      " helps\n",
      " sprinkler\n",
      " stainless\n",
      " easy\n",
      " resist\n"
     ]
    }
   ],
   "source": [
    "show_recommendations(\"Water\")"
   ]
  },
  {
   "cell_type": "code",
   "execution_count": null,
   "metadata": {},
   "outputs": [],
   "source": []
  }
 ],
 "metadata": {
  "kernelspec": {
   "display_name": "Python 3",
   "language": "python",
   "name": "python3"
  },
  "language_info": {
   "codemirror_mode": {
    "name": "ipython",
    "version": 3
   },
   "file_extension": ".py",
   "mimetype": "text/x-python",
   "name": "python",
   "nbconvert_exporter": "python",
   "pygments_lexer": "ipython3",
   "version": "3.8.8"
  }
 },
 "nbformat": 4,
 "nbformat_minor": 2
}
